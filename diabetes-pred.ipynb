{
 "cells": [
  {
   "cell_type": "markdown",
   "id": "c724624d",
   "metadata": {},
   "source": [
    "https://www.kaggle.com/datasets/uciml/pima-indians-diabetes-database?select=diabetes.csv"
   ]
  }
 ],
 "metadata": {
  "language_info": {
   "name": "python"
  }
 },
 "nbformat": 4,
 "nbformat_minor": 5
}
